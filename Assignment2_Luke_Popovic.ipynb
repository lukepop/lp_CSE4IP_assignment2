{
 "cells": [
  {
   "cell_type": "code",
   "execution_count": 7,
   "metadata": {},
   "outputs": [
    {
     "name": "stdout",
     "output_type": "stream",
     "text": [
      "Bob: 12103\n",
      "Charlie: 8762\n",
      "Alice: 7821\n"
     ]
    }
   ],
   "source": [
    "#Question 1  \n",
    "# REV HISTORY\n",
    "#~~~~~~~~~~~~~~~~~~~~~\n",
    "# A - \n",
    "#\n",
    "#\n",
    "#TODO\n",
    "# 1) Record scores \n",
    "# 2) Print leaderboard \n",
    "# 3) Add two methods to scoreboard class \n",
    "#~~~~~~~~~~~~~~~~~~~~~\n",
    "\n",
    "class ScoreEntry:\n",
    "    def __init__(self,name,score):\n",
    "        self.name = str(name)\n",
    "        self.score = score\n",
    "\n",
    "#instatiating an object called score entry \n",
    "score_entry = ScoreEntry(\"Bob\",12103)\n",
    "\n",
    "def get_score(score_entry): #this function can be used to get the score from the ScoreEntry class \n",
    "    return score_entry.score\n",
    "\n",
    "class Scoreboard:\n",
    "    def __init__(self):\n",
    "        self.scores = [] #this is an empty list which becomes a list of objects \n",
    "    \n",
    "    # Write your methods here\n",
    "    \n",
    "    def add_score(self,playerName,playerScore): #we want to create a list of tuples \n",
    "        score_entry = ScoreEntry(playerName,playerScore) #instatiating a score_entry \n",
    "        self.scores.append(score_entry) #append this to the existing list \n",
    "\n",
    "    def print_leaderboard(self): \n",
    "        self.scores.sort(key=get_score, reverse = True) #want to sort on the score of the object, in the reverse order \n",
    "        #I only want the top 3 so I take a slice of the self scores list and assign it to topScores \n",
    "        topScores = self.scores[0:3] #list slice of the top 3 scores, which are already ordered using the reverse keyword\n",
    " \n",
    "        for scores in topScores:\n",
    "            print(scores.name +\": \" + str(scores.score))\n",
    "            \n",
    "scoreboard = Scoreboard()\n",
    "scoreboard.add_score('Alice',7821)\n",
    "scoreboard.add_score('Bob',12103)\n",
    "scoreboard.add_score('Charlie',8762)\n",
    "scoreboard.add_score('Denise',6573)\n",
    "\n",
    "\n",
    "scoreboard.print_leaderboard()"
   ]
  },
  {
   "cell_type": "code",
   "execution_count": null,
   "metadata": {},
   "outputs": [],
   "source": [
    "#Question 1  \n",
    "# REV HISTORY\n",
    "#~~~~~~~~~~~~~~~~~~~~~\n",
    "# A - \n",
    "#\n",
    "#\n",
    "#TODO\n",
    "#\n",
    "#~~~~~~~~~~~~~~~~~~~~~\n",
    "# "
   ]
  }
 ],
 "metadata": {
  "kernelspec": {
   "display_name": "Python 3",
   "language": "python",
   "name": "python3"
  },
  "language_info": {
   "codemirror_mode": {
    "name": "ipython",
    "version": 3
   },
   "file_extension": ".py",
   "mimetype": "text/x-python",
   "name": "python",
   "nbconvert_exporter": "python",
   "pygments_lexer": "ipython3",
   "version": "3.6.4"
  }
 },
 "nbformat": 4,
 "nbformat_minor": 2
}
